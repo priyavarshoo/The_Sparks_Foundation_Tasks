{
 "cells": [
  {
   "cell_type": "markdown",
   "id": "1ea96ac7",
   "metadata": {},
   "source": [
    "**Prediction using Supervised ML**\n",
    "\n",
    "**Done by: Varshitha P**"
   ]
  },
  {
   "cell_type": "code",
   "execution_count": 1,
   "id": "1ef03b29",
   "metadata": {},
   "outputs": [],
   "source": [
    "#Import required packages\n",
    "# -*- coding: utf-8 -*-\n",
    "\n",
    "import numpy as np\n",
    "import pandas as pd\n",
    "import sklearn\n",
    "from sklearn.linear_model import LinearRegression\n",
    "import matplotlib.pyplot as plt\n",
    "\n"
   ]
  },
  {
   "cell_type": "code",
   "execution_count": 2,
   "id": "fa08ce8c",
   "metadata": {},
   "outputs": [],
   "source": [
    "#Read dataset and store in a dataframe\n",
    "#Extract and Store number of hours in x, and score in y\n",
    "\n",
    "df = pd.read_csv(\"https://raw.githubusercontent.com/AdiPersonalWorks/Random/master/student_scores%20-%20student_scores.csv\")\n",
    "\n",
    "#print(df.loc[2])\n",
    "X=np.array(df.iloc[:,0])\n",
    "x=X.reshape((-1,1))\n",
    "y=np.array(df.iloc[:,1])\n",
    "\n"
   ]
  },
  {
   "cell_type": "code",
   "execution_count": 3,
   "id": "32a3b7b5",
   "metadata": {},
   "outputs": [
    {
     "name": "stdout",
     "output_type": "stream",
     "text": [
      "X_train:  [[2.7]\n",
      " [3.3]\n",
      " [5.1]\n",
      " [3.8]\n",
      " [1.5]\n",
      " [3.2]\n",
      " [4.5]\n",
      " [8.9]\n",
      " [8.5]\n",
      " [3.5]\n",
      " [2.7]\n",
      " [1.9]\n",
      " [4.8]\n",
      " [6.1]\n",
      " [7.8]\n",
      " [5.5]\n",
      " [7.7]\n",
      " [1.1]\n",
      " [7.4]\n",
      " [9.2]]\n"
     ]
    }
   ],
   "source": [
    "#Split x and y into training and test datasets each\n",
    "\n",
    "from sklearn.model_selection import train_test_split\n",
    "X_train, X_test, y_train, y_test = train_test_split(x,y,train_size=20, random_state=42)\n",
    "\n",
    "print('X_train: ', X_train)"
   ]
  },
  {
   "cell_type": "code",
   "execution_count": 4,
   "id": "89d08e7f",
   "metadata": {},
   "outputs": [
    {
     "data": {
      "image/png": "[encoded data removed]",
      "text/plain": [
       "<Figure size 432x288 with 1 Axes>"
      ]
     },
     "metadata": {
      "needs_background": "light"
     },
     "output_type": "display_data"
    }
   ],
   "source": [
    "#Plot training data\n",
    "\n",
    "plt.scatter(X_train,y_train)\n",
    "plt.legend(['Scores'])\n",
    "\n",
    "plt.xlabel('Number of Study Hours')\n",
    "plt.ylabel('Percentage Score')\n",
    "plt.title('Study Hours vs Score: Training Data')\n",
    "plt.show()"
   ]
  },
  {
   "cell_type": "code",
   "execution_count": 5,
   "id": "449a3230",
   "metadata": {},
   "outputs": [
    {
     "name": "stdout",
     "output_type": "stream",
     "text": [
      "Training completed!\n",
      "Trained parameters...\n",
      "Coefficient of determination:  0.9491209376364416\n",
      "Intercept:  2.826892353899737\n",
      "Slope:  [9.68207815]\n"
     ]
    }
   ],
   "source": [
    "#Model training\n",
    "\n",
    "model=LinearRegression()\n",
    "model.fit(X_train,y_train)\n",
    "print('Training completed!')\n",
    "\n",
    "print('Trained parameters...')\n",
    "r_sq = model.score(X_train,y_train)\n",
    "print('Coefficient of determination: ',r_sq)\n",
    "print('Intercept: ',model.intercept_)\n",
    "print('Slope: ',model.coef_)\n",
    "\n"
   ]
  },
  {
   "cell_type": "code",
   "execution_count": 6,
   "id": "44d68546",
   "metadata": {},
   "outputs": [
    {
     "name": "stdout",
     "output_type": "stream",
     "text": [
      "Testing data:  [[8.3]\n",
      " [2.5]\n",
      " [2.5]\n",
      " [6.9]\n",
      " [5.9]]\n",
      "   Actual  Predicted\n",
      "0      81  83.188141\n",
      "1      30  27.032088\n",
      "2      21  27.032088\n",
      "3      76  69.633232\n",
      "4      62  59.951153\n"
     ]
    }
   ],
   "source": [
    "##Model Testing: Predicting scores of test data using trained model\n",
    "\n",
    "print('Testing data: ',X_test)\n",
    "\n",
    "y_pred = model.predict(X_test)\n",
    "df1 = pd.DataFrame({'Actual': y_test, 'Predicted': y_pred})  \n",
    "print(df1)\n",
    "\n"
   ]
  },
  {
   "cell_type": "code",
   "execution_count": 7,
   "id": "9902dfbf",
   "metadata": {},
   "outputs": [
    {
     "name": "stdout",
     "output_type": "stream",
     "text": [
      "Mean Absolute Error:  3.9207511902099244\n",
      "Mean Squared Error:  18.943211722315272\n"
     ]
    }
   ],
   "source": [
    "#Checking prediction using metrics: Mean Absolute Error and Mean Squared Error\n",
    "\n",
    "from sklearn import metrics\n",
    "print('Mean Absolute Error: ', metrics.mean_absolute_error(y_test, y_pred))\n",
    "print('Mean Squared Error: ', metrics.mean_squared_error(y_test, y_pred))"
   ]
  },
  {
   "cell_type": "code",
   "execution_count": 8,
   "id": "eb51293c",
   "metadata": {},
   "outputs": [
    {
     "name": "stdout",
     "output_type": "stream",
     "text": [
      "Predicted score for 9.25 study hours/day:  [92.38611528]\n"
     ]
    }
   ],
   "source": [
    "#Predict score for 9.25 study hours\n",
    "\n",
    "y_pred1 = model.predict([[9.25]])\n",
    "print('Predicted score for 9.25 study hours/day: ', y_pred1)\n",
    "\n"
   ]
  },
  {
   "cell_type": "code",
   "execution_count": 9,
   "id": "b46de321",
   "metadata": {},
   "outputs": [
    {
     "data": {
      "image/png": "[encoded data removed]",
      "text/plain": [
       "<Figure size 432x288 with 1 Axes>"
      ]
     },
     "metadata": {
      "needs_background": "light"
     },
     "output_type": "display_data"
    }
   ],
   "source": [
    "#Plot regressed line\n",
    "\n",
    "Y = model.coef_*X_train + model.intercept_\n",
    "plt.scatter(x,y)\n",
    "plt.legend(['Scores'])\n",
    "plt.plot(X_train,Y,color='r')\n",
    "\n",
    "plt.xlabel('Number of Study Hours')\n",
    "plt.ylabel('Percentage Score')\n",
    "plt.title('Study Hours vs Score')\n",
    "plt.show()"
   ]
  }
 ],
 "metadata": {
  "kernelspec": {
   "display_name": "Python 3",
   "language": "python",
   "name": "python3"
  },
  "language_info": {
   "codemirror_mode": {
    "name": "ipython",
    "version": 3
   },
   "file_extension": ".py",
   "mimetype": "text/x-python",
   "name": "python",
   "nbconvert_exporter": "python",
   "pygments_lexer": "ipython3",
   "version": "3.8.5"
  }
 },
 "nbformat": 4,
 "nbformat_minor": 5
}
